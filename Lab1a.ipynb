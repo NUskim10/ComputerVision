{
  "nbformat": 4,
  "nbformat_minor": 0,
  "metadata": {
    "colab": {
      "provenance": [],
      "collapsed_sections": [],
      "authorship_tag": "ABX9TyPYN5mDyKnPlFqmzr+ZSyap",
      "include_colab_link": true
    },
    "kernelspec": {
      "name": "python3",
      "display_name": "Python 3"
    },
    "language_info": {
      "name": "python"
    }
  },
  "cells": [
    {
      "cell_type": "markdown",
      "metadata": {
        "id": "view-in-github",
        "colab_type": "text"
      },
      "source": [
        "<a href=\"https://colab.research.google.com/github/NUskim10/ComputerVision/blob/main/Lab1a.ipynb\" target=\"_parent\"><img src=\"https://colab.research.google.com/assets/colab-badge.svg\" alt=\"Open In Colab\"/></a>"
      ]
    },
    {
      "cell_type": "markdown",
      "source": [
        "# Welcome to my Hello World page!\n",
        "\n",
        "### Welcome to my Example Jupyter Notebook\n",
        "\n",
        "\n",
        "\n",
        "*I am an italic line.*\n",
        "\n",
        "** I am a bold person**"
      ],
      "metadata": {
        "id": "2eT00PlV00wK"
      }
    },
    {
      "cell_type": "code",
      "execution_count": 1,
      "metadata": {
        "colab": {
          "base_uri": "https://localhost:8080/"
        },
        "id": "hHxZ1sqC0k-B",
        "outputId": "8eb00650-19ca-493d-dc13-68d29116722a"
      },
      "outputs": [
        {
          "output_type": "stream",
          "name": "stdout",
          "text": [
            "Hello world\n"
          ]
        }
      ],
      "source": [
        "print('Hello world')"
      ]
    },
    {
      "cell_type": "code",
      "source": [],
      "metadata": {
        "id": "c9S11Wf606NW"
      },
      "execution_count": null,
      "outputs": []
    }
  ]
}