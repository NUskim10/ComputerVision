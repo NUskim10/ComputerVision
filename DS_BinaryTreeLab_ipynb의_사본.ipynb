{
  "nbformat": 4,
  "nbformat_minor": 0,
  "metadata": {
    "colab": {
      "provenance": [],
      "include_colab_link": true
    },
    "kernelspec": {
      "name": "python3",
      "display_name": "Python 3"
    },
    "language_info": {
      "name": "python"
    }
  },
  "cells": [
    {
      "cell_type": "markdown",
      "metadata": {
        "id": "view-in-github",
        "colab_type": "text"
      },
      "source": [
        "<a href=\"https://colab.research.google.com/github/NUskim10/ComputerVision/blob/main/DS_BinaryTreeLab_ipynb%EC%9D%98_%EC%82%AC%EB%B3%B8.ipynb\" target=\"_parent\"><img src=\"https://colab.research.google.com/assets/colab-badge.svg\" alt=\"Open In Colab\"/></a>"
      ]
    },
    {
      "cell_type": "markdown",
      "source": [
        "###Binary Trees\n",
        "In this lab assignment you will be implementing a Binary Tree as a python class. \n",
        "\n",
        "Implement a class BinaryTree which has the following:\n",
        "* attributes:\n",
        "  * count - the number of nodes in the tree\n",
        "  * root - a reference to the root node. None if there are no nodes.\n",
        "* methods:\n",
        "  * addChild(self, parentNode, newNode, addOnLeft) - attaches newNode to parentNode, if addOnLeft is True, adds to the left branch, otherwise adds on the right branch.\n",
        "  * printDFS(self) - performs a depth first search, printing each nodes' label\n",
        "  * printBFS - performs a breadth first search, printing each nodes' label\n",
        "\n",
        "The class for Node is given below (which you must use)."
      ],
      "metadata": {
        "id": "oluovDXETd4p"
      }
    },
    {
      "cell_type": "code",
      "execution_count": 1,
      "metadata": {
        "id": "74zQ6wvXTbpe"
      },
      "outputs": [],
      "source": [
        "class Node:\n",
        "  \"\"\"Implements a basic binary tree node\"\"\"\n",
        "  def __init__(self):\n",
        "    self.parent = None\n",
        "    self.left = None\n",
        "    self.right = None\n",
        "    self.label = None\n",
        "\n",
        "  def addChild(self, childNode, addOnLeft):\n",
        "    \"\"\"Adds the childNode to left or right attribute based on\n",
        "    whether addOnLeft is True. \"\"\"\n",
        "    if addOnLeft:\n",
        "      self.left = childNode\n",
        "    else:\n",
        "      self.right = childNode\n",
        "    childNode.parent = self\n",
        "\n",
        "class BinaryTree:\n",
        "  \"\"\"Implements a minimal BinaryTree supporting a breadth first walk and a\n",
        "  depth-first walk \"\"\"\n",
        "  def __init__(self):\n",
        "    \"\"\"always add a root\"\"\"\n",
        "    self.count = 1\n",
        "    self.root = Node()\n",
        "    self.root.label = \"root\"\n",
        "\n",
        "  def addChild(self, parentNode, newNode, addOnLeft):\n",
        "     parentNode.addChild(newNode, addOnLeft)\n",
        "     self.count += 1\n",
        "  \n",
        "  def printDFS(self):\n",
        "    completBranchSet = set() # this is not a printed set\n",
        "    printedSet= set()\n",
        "    currentNode = self.root\n",
        "    while currentNode !=None:\n",
        "      # probably we want to add an if here and only print\n",
        "      # if it hasn't been printed\n",
        "      if not currentNode.label in printedSet:\n",
        "        print(currentNode.label)\n",
        "        printedSet.add(currentNode.label)\n",
        "\n",
        "      # if left branch is not empty and not completed, go there\n",
        "      left_branch_not_empty = (currentNode.left != None)\n",
        "      left_branch_complete = (currentNode.left in completBranchSet)\n",
        "\n",
        "      if left_branch_not_empty and not left_branch_complete:\n",
        "          currentNode = currentNode.left\n",
        "\n",
        "      else:\n",
        "        # is there a non-None right branch\n",
        "        \n",
        "        if currentNode.right != None and not (currentNode.right in completBranchSet):\n",
        "          currentNode = currentNode.right\n",
        "        else:\n",
        "          if currentNode.parent != None:\n",
        "            completBranchSet.add(currentNode)\n",
        "            currentNode = currentNode.parent\n",
        "          else:\n",
        "            break\n",
        "\n",
        "def printBFS(self):\n",
        "    completBranchSet = set() # this is not a printed set\n",
        "    printedSet= set()\n",
        "    currentNode = self.root\n",
        "    while currentNode !=None:\n",
        "      # probably we want to add an if here and only print\n",
        "      # if it hasn't been printed\n",
        "      if not currentNode.label in printedSet:\n",
        "        print(currentNode.label)\n",
        "        printedSet.add(currentNode.label)\n",
        "\n",
        "      # if left branch is not empty and not completed, go there\n",
        "      left_branch_not_empty = (currentNode.left != None)\n",
        "      left_branch_complete = (currentNode.left in completBranchSet)\n",
        "\n",
        "      if left_branch_not_empty and not left_branch_complete:\n",
        "          currentNode = currentNode.left\n",
        "\n",
        "      else:\n",
        "        # is there a non-None right branch\n",
        "        \n",
        "        if currentNode.right != None and not (currentNode.right in completBranchSet):\n",
        "          currentNode = currentNode.right\n",
        "        else:\n",
        "          if currentNode.parent != None:\n",
        "            completBranchSet.add(currentNode)\n",
        "            currentNode = currentNode.parent\n",
        "          else:\n",
        "            break"
      ]
    },
    {
      "cell_type": "code",
      "source": [
        "# In this test case, we will create a BinaryTree with the structure:\n",
        "#     A\n",
        "#    / \\\n",
        "#   B   C\n",
        "#    \\\n",
        "#     D\n",
        "# A is the root. A has lesft childB and right child C.\n",
        "# B has right child D.\n",
        "# We will then call printDFS() and check that the result is A-B-D-C\n",
        "# We will call printBFS() and check that result is A-B-C-D\n",
        "\n",
        "# --------------------------------------------------------------------\n",
        "\n",
        "# create the BinaryTree, fill in nodes properly connected\n",
        "\n",
        "my_tree = BinaryTree()\n",
        "my_tree.root.label = 'A'\n",
        "\n",
        "# add B\n",
        "nodeB = Node()\n",
        "nodeB.label = 'B'\n",
        "\n",
        "my_tree.addChild(my_tree.root, nodeB, True)\n",
        "\n",
        "assert(my_tree.root.left == nodeB)\n",
        "assert(nodeB.parent == my_tree.root)\n",
        "assert(my_tree.count == 2)\n",
        "\n",
        "# add C\n",
        "nodeC = Node() # create a new instance of the Node class\n",
        "nodeC.label = 'C'\n",
        "my_tree.addChild(my_tree.root, nodeC, False)\n",
        "assert(my_tree.root.right == nodeC)\n",
        "assert(nodeC.parent == my_tree.root)\n",
        "assert(my_tree.count == 3)\n",
        "assert(nodeB !=nodeC)\n",
        "\n",
        "# add d\n",
        "nodeD = Node()\n",
        "nodeD.label = 'D'\n",
        "my_tree.addChild(nodeB, nodeD, False)\n",
        "assert(nodeB.right == nodeD)\n",
        "assert(nodeD.parent == nodeB)\n",
        "assert(my_tree.count == 4)\n",
        "\n",
        "my_tree.printDFS()\n",
        "\n"
      ],
      "metadata": {
        "colab": {
          "base_uri": "https://localhost:8080/"
        },
        "id": "G6K2YX2_Hjto",
        "outputId": "255b0ddf-7ca0-4a8e-c9cb-5bed71b05c58"
      },
      "execution_count": 2,
      "outputs": [
        {
          "output_type": "stream",
          "name": "stdout",
          "text": [
            "A\n",
            "B\n",
            "D\n",
            "C\n"
          ]
        }
      ]
    },
    {
      "cell_type": "code",
      "source": [
        "myset = set()\n",
        "myset.add('A')\n",
        "None in myset"
      ],
      "metadata": {
        "colab": {
          "base_uri": "https://localhost:8080/"
        },
        "id": "8OcJ0vJgM71j",
        "outputId": "0d6425aa-5efd-460b-b5be-a1c0defe25b6"
      },
      "execution_count": 3,
      "outputs": [
        {
          "output_type": "execute_result",
          "data": {
            "text/plain": [
              "False"
            ]
          },
          "metadata": {},
          "execution_count": 3
        }
      ]
    },
    {
      "cell_type": "code",
      "source": [
        "# now create a test case for Breath First walk and complete\n",
        "# the method for Breath - First walk\n",
        "\n",
        "def printBFS(self):\n",
        "  completBranchSet = set() # this is not a printed set\n",
        "  printedSet= set()\n",
        "  currentNode = self.root\n",
        "  while currentNode !=None:\n",
        "      # probably we want to add an if here and only print\n",
        "      # if it hasn't been printed\n",
        "    if not currentNode.label in printedSet:\n",
        "      print(currentNode.label)\n",
        "      printedSet.add(currentNode.label)\n",
        "\n",
        "      # if left branch is not empty and not completed, go there\n",
        "    left_branch_not_empty = (currentNode.left != None)\n",
        "    left_branch_complete = (currentNode.left in completBranchSet)\n",
        "\n",
        "    if left_branch_not_empty and not left_branch_complete:\n",
        "        currentNode = currentNode.left\n",
        "\n",
        "    else:\n",
        "        # is there a non-None right branch\n",
        "        \n",
        "      if currentNode.right != None and not (currentNode.right in completBranchSet):\n",
        "        currentNode = currentNode.right\n",
        "      else:\n",
        "        if currentNode.parent != None:\n",
        "          completBranchSet.add(currentNode)\n",
        "          currentNode = currentNode.parent\n",
        "        else:\n",
        "          break"
      ],
      "metadata": {
        "id": "q8QGZJ2lRqki"
      },
      "execution_count": 5,
      "outputs": []
    }
  ]
}