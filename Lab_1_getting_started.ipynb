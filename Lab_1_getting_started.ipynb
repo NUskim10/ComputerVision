{
  "nbformat": 4,
  "nbformat_minor": 0,
  "metadata": {
    "colab": {
      "provenance": [],
      "authorship_tag": "ABX9TyM4UsnpU0jnHxY/WsaVAcyd",
      "include_colab_link": true
    },
    "kernelspec": {
      "name": "python3",
      "display_name": "Python 3"
    },
    "language_info": {
      "name": "python"
    }
  },
  "cells": [
    {
      "cell_type": "markdown",
      "metadata": {
        "id": "view-in-github",
        "colab_type": "text"
      },
      "source": [
        "<a href=\"https://colab.research.google.com/github/NUskim10/ComputerVision/blob/main/Lab_1_getting_started.ipynb\" target=\"_parent\"><img src=\"https://colab.research.google.com/assets/colab-badge.svg\" alt=\"Open In Colab\"/></a>"
      ]
    },
    {
      "cell_type": "markdown",
      "source": [
        "### Getting started\n",
        "\n",
        "** This is bold**\n",
        "\n",
        "*This is italic text*\n",
        "\n",
        "<u> underlined text</u>\n",
        "\n",
        "plain text with list\n",
        " 1. plain 1\n",
        " 1. plain 2\n",
        " 1. plain 3\n"
      ],
      "metadata": {
        "id": "QK77JHsybtsZ"
      }
    },
    {
      "cell_type": "code",
      "execution_count": null,
      "metadata": {
        "colab": {
          "base_uri": "https://localhost:8080/"
        },
        "id": "uScbUbCEboA3",
        "outputId": "651d32b4-5307-4d2e-e8dc-13ee5d5d75bc"
      },
      "outputs": [
        {
          "output_type": "stream",
          "name": "stdout",
          "text": [
            "Hello World!!\n"
          ]
        }
      ],
      "source": [
        "print('Hello World!!')"
      ]
    },
    {
      "cell_type": "code",
      "source": [
        "# calculate 2 to the 20th power\n",
        "answer = 2**20\n",
        "print('2 to the 20th power is :',answer)"
      ],
      "metadata": {
        "colab": {
          "base_uri": "https://localhost:8080/"
        },
        "id": "oTu5olxpcZG4",
        "outputId": "05260c82-2ea9-42d2-e5db-4a6f12cf6d2a"
      },
      "execution_count": null,
      "outputs": [
        {
          "output_type": "stream",
          "name": "stdout",
          "text": [
            "2 to the 20th power is : 1048576\n"
          ]
        }
      ]
    },
    {
      "cell_type": "code",
      "source": [
        "# add up all the numbers from 1 to 1000 and print the result\n",
        "\n",
        "# solution 1\n",
        "answer = 0\n",
        "for i in range(1001):\n",
        "  answer+=i\n",
        "print('solution 1:' ,answer)\n",
        "\n",
        "# solution 2\n",
        "n = 1000\n",
        "result = (n/2)*(n+1)\n",
        "print('solution 2:',result)"
      ],
      "metadata": {
        "colab": {
          "base_uri": "https://localhost:8080/"
        },
        "id": "5VDKXnS1cg1O",
        "outputId": "91c46a5f-0325-4d12-aee0-759de02bf7ba"
      },
      "execution_count": 1,
      "outputs": [
        {
          "output_type": "stream",
          "name": "stdout",
          "text": [
            "solution 1: 500500\n",
            "solution 2: 500500.0\n"
          ]
        }
      ]
    },
    {
      "cell_type": "code",
      "source": [
        "# create a for loop that prints something 5 times\n",
        "\n",
        "for i in range(5):\n",
        "  print('Algorithms and Data Struct',i+1)"
      ],
      "metadata": {
        "colab": {
          "base_uri": "https://localhost:8080/"
        },
        "id": "ZiSCF7N0c39W",
        "outputId": "5b0f2d57-3bb1-454b-b0ed-08212dc04c5c"
      },
      "execution_count": null,
      "outputs": [
        {
          "output_type": "stream",
          "name": "stdout",
          "text": [
            "Algorithms and Data Struct 1\n",
            "Algorithms and Data Struct 2\n",
            "Algorithms and Data Struct 3\n",
            "Algorithms and Data Struct 4\n",
            "Algorithms and Data Struct 5\n"
          ]
        }
      ]
    },
    {
      "cell_type": "code",
      "source": [
        "def double(n):\n",
        "  result = n*2\n",
        "  return result\n",
        "\n",
        "ask = int(input('Input a number'))\n",
        "double(ask)"
      ],
      "metadata": {
        "colab": {
          "base_uri": "https://localhost:8080/"
        },
        "id": "YFBmgHwbdyhQ",
        "outputId": "b79aebb6-078d-43cd-b3dc-7310a63c8219"
      },
      "execution_count": null,
      "outputs": [
        {
          "name": "stdout",
          "output_type": "stream",
          "text": [
            "Input a number2\n"
          ]
        },
        {
          "output_type": "execute_result",
          "data": {
            "text/plain": [
              "4"
            ]
          },
          "metadata": {},
          "execution_count": 1
        }
      ]
    },
    {
      "cell_type": "code",
      "source": [],
      "metadata": {
        "id": "btk13eW5eBn1"
      },
      "execution_count": 3,
      "outputs": []
    },
    {
      "cell_type": "code",
      "source": [],
      "metadata": {
        "id": "XhITP_6HIney"
      },
      "execution_count": 3,
      "outputs": []
    },
    {
      "cell_type": "code",
      "source": [],
      "metadata": {
        "id": "PYjqapsyIo5w"
      },
      "execution_count": null,
      "outputs": []
    }
  ]
}